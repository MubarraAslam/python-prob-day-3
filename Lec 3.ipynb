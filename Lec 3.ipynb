{
 "cells": [
  {
   "cell_type": "markdown",
   "id": "4f8d3132-79d4-4330-9efc-5beaa319178a",
   "metadata": {},
   "source": [
    " # string can be single quote' '  or double quote\" \""
   ]
  },
  {
   "cell_type": "code",
   "execution_count": 2,
   "id": "9b6e6cf9-2e85-4d6a-b9a0-1796a1087d37",
   "metadata": {},
   "outputs": [
    {
     "name": "stdout",
     "output_type": "stream",
     "text": [
      "hello\n"
     ]
    }
   ],
   "source": [
    "\n",
    "a=\"hello\"\n",
    "\n",
    "print(a)"
   ]
  },
  {
   "cell_type": "code",
   "execution_count": 1,
   "id": "8be788ce-4c60-4297-9068-9d489a5a782f",
   "metadata": {},
   "outputs": [
    {
     "name": "stdout",
     "output_type": "stream",
     "text": [
      "hello\n"
     ]
    }
   ],
   "source": [
    "b='hello'\n",
    "print(b)\n"
   ]
  },
  {
   "cell_type": "markdown",
   "id": "7fc98855-69e5-4b6e-bb06-1b3ce1d4e963",
   "metadata": {},
   "source": [
    "# Assignment Operators"
   ]
  },
  {
   "cell_type": "code",
   "execution_count": null,
   "id": "4c2c90d3-98d1-49ca-9faa-54df03129b4b",
   "metadata": {},
   "outputs": [],
   "source": [
    "it used to check whether strings are equal, not equal, greater or less"
   ]
  },
  {
   "cell_type": "code",
   "execution_count": 3,
   "id": "e77833e5-9044-4919-a6f1-7ffd7e40db3d",
   "metadata": {},
   "outputs": [
    {
     "name": "stdout",
     "output_type": "stream",
     "text": [
      "True\n"
     ]
    }
   ],
   "source": [
    "print(a==b)"
   ]
  },
  {
   "cell_type": "code",
   "execution_count": 4,
   "id": "3ab73788-e2f1-4899-aff0-a7b8d2835f8f",
   "metadata": {},
   "outputs": [
    {
     "name": "stdout",
     "output_type": "stream",
     "text": [
      "False\n"
     ]
    }
   ],
   "source": [
    "a='bubblo'\n",
    "b=\"hello\"\n",
    "print(a==b)"
   ]
  },
  {
   "cell_type": "markdown",
   "id": "019280ab-c4b4-430e-b091-0f90029f081d",
   "metadata": {},
   "source": [
    "# Checking element in string"
   ]
  },
  {
   "cell_type": "code",
   "execution_count": 6,
   "id": "945f87ed-af39-4690-a72d-d4431a13b93b",
   "metadata": {},
   "outputs": [
    {
     "name": "stdout",
     "output_type": "stream",
     "text": [
      "True\n"
     ]
    }
   ],
   "source": [
    "print('h' in \"hello\")"
   ]
  },
  {
   "cell_type": "code",
   "execution_count": 5,
   "id": "59b27cab-9cc6-4852-a2d3-1768e8062ac6",
   "metadata": {},
   "outputs": [
    {
     "name": "stdout",
     "output_type": "stream",
     "text": [
      "False\n"
     ]
    }
   ],
   "source": [
    "print('6' in \"12345\") "
   ]
  },
  {
   "cell_type": "markdown",
   "id": "c96bc701-a291-4ea9-81f2-4fff3f46a4c8",
   "metadata": {},
   "source": [
    "# slicing (write from specific index)"
   ]
  },
  {
   "cell_type": "code",
   "execution_count": 9,
   "id": "c0a950de-0b4f-425a-a82a-0e20573e2535",
   "metadata": {},
   "outputs": [
    {
     "name": "stdout",
     "output_type": "stream",
     "text": [
      "hello\n"
     ]
    }
   ],
   "source": [
    "s=\"hello\"\n",
    "print(s)"
   ]
  },
  {
   "cell_type": "code",
   "execution_count": 10,
   "id": "992ff0b6-42df-4489-8642-299bf35c2298",
   "metadata": {},
   "outputs": [
    {
     "name": "stdout",
     "output_type": "stream",
     "text": [
      "hel\n"
     ]
    }
   ],
   "source": [
    "print(s[0:3])      #0 index to less than 3 index(2)"
   ]
  },
  {
   "cell_type": "code",
   "execution_count": 14,
   "id": "cae31a45-a953-487f-8f5d-a0e9bb7c4440",
   "metadata": {},
   "outputs": [
    {
     "name": "stdout",
     "output_type": "stream",
     "text": [
      "olleh\n"
     ]
    }
   ],
   "source": [
    "#inversing\n",
    "s=\"hello\"\n",
    "print(s[::-1])"
   ]
  },
  {
   "cell_type": "markdown",
   "id": "a7d77746-8c06-450b-acf1-8005d44399a3",
   "metadata": {},
   "source": [
    "# checking length of stirng"
   ]
  },
  {
   "cell_type": "code",
   "execution_count": 18,
   "id": "b9578275-fd48-45f2-9b66-164e926058b1",
   "metadata": {},
   "outputs": [
    {
     "name": "stdout",
     "output_type": "stream",
     "text": [
      "15\n"
     ]
    }
   ],
   "source": [
    "s=\"123456789023456\"\n",
    "print(len(s))"
   ]
  },
  {
   "cell_type": "markdown",
   "id": "622364d1-359c-4cad-aca5-a446cc8e7338",
   "metadata": {},
   "source": [
    "# split function-> seperate each word of a stirng\n"
   ]
  },
  {
   "cell_type": "code",
   "execution_count": 19,
   "id": "99fcaac9-dd4e-4662-b241-85a3c20502cd",
   "metadata": {},
   "outputs": [
    {
     "name": "stdout",
     "output_type": "stream",
     "text": [
      "['how', 'are', 'you']\n"
     ]
    }
   ],
   "source": [
    "s=\"how are you\"\n",
    "print(s.split(' '))"
   ]
  },
  {
   "cell_type": "code",
   "execution_count": 6,
   "id": "f4edf4bc-09e9-4eea-b5f8-1d719dc05158",
   "metadata": {},
   "outputs": [
    {
     "name": "stdout",
     "output_type": "stream",
     "text": [
      "***hello***\n"
     ]
    }
   ],
   "source": [
    "s=\"hello\"\n",
    "print(s.center(11,'*'))    #center the string with 11 characters and * added to complete the string it may any other sign"
   ]
  },
  {
   "cell_type": "markdown",
   "id": "c049c548-f3b0-4175-afcb-c843885f31e2",
   "metadata": {},
   "source": [
    "# raw string (output the string as it is ) "
   ]
  },
  {
   "cell_type": "code",
   "execution_count": 14,
   "id": "4177e9a9-6371-47fb-9adc-af128f40101b",
   "metadata": {},
   "outputs": [
    {
     "name": "stdout",
     "output_type": "stream",
     "text": [
      "hello \n",
      " hello\n"
     ]
    }
   ],
   "source": [
    "h=\"hello \\n hello\" # it will write it in nxt line but if we want to write it same we will use r \n",
    "print(h)\n",
    "\n"
   ]
  },
  {
   "cell_type": "code",
   "execution_count": 16,
   "id": "b6925b0f-388b-4aa0-a1a5-64a96178bda7",
   "metadata": {},
   "outputs": [
    {
     "name": "stdout",
     "output_type": "stream",
     "text": [
      "hello \\n hello\n"
     ]
    }
   ],
   "source": [
    "h=r'hello \\n hello'\n",
    "print(h)"
   ]
  },
  {
   "cell_type": "code",
   "execution_count": 18,
   "id": "ec85009e-253d-4da3-8eda-a23f0b3336dd",
   "metadata": {},
   "outputs": [
    {
     "name": "stdout",
     "output_type": "stream",
     "text": [
      "Mano\n"
     ]
    }
   ],
   "source": [
    "g=\"mano\"\n",
    "print(g.capitalize())  # 1st letter will be capitalize"
   ]
  },
  {
   "cell_type": "code",
   "execution_count": 19,
   "id": "9c23d102-82e4-423e-92ce-e7d34da11ee9",
   "metadata": {},
   "outputs": [
    {
     "name": "stdout",
     "output_type": "stream",
     "text": [
      "MANO\n"
     ]
    }
   ],
   "source": [
    "print(g.upper()) # all letters capital"
   ]
  },
  {
   "cell_type": "markdown",
   "id": "a7274a64-9d52-4f9f-8e4e-e1888cb36df5",
   "metadata": {},
   "source": [
    "# Replace "
   ]
  },
  {
   "cell_type": "code",
   "execution_count": 21,
   "id": "b453700d-cfa8-4617-a770-3163f4a78d9a",
   "metadata": {},
   "outputs": [
    {
     "name": "stdout",
     "output_type": "stream",
     "text": [
      "pano\n"
     ]
    }
   ],
   "source": [
    "#print(g[1]=b) which will give syatax error\n",
    "\n",
    "print(g.replace('m','p')) "
   ]
  },
  {
   "cell_type": "code",
   "execution_count": null,
   "id": "0a577b57-370f-48c6-9b9e-55979934dcdd",
   "metadata": {},
   "outputs": [],
   "source": []
  }
 ],
 "metadata": {
  "kernelspec": {
   "display_name": "Python 3 (ipykernel)",
   "language": "python",
   "name": "python3"
  },
  "language_info": {
   "codemirror_mode": {
    "name": "ipython",
    "version": 3
   },
   "file_extension": ".py",
   "mimetype": "text/x-python",
   "name": "python",
   "nbconvert_exporter": "python",
   "pygments_lexer": "ipython3",
   "version": "3.11.7"
  }
 },
 "nbformat": 4,
 "nbformat_minor": 5
}
