{
 "cells": [
  {
   "cell_type": "markdown",
   "id": "35cda2ab-c0b3-410f-84e0-0a8eda9e167b",
   "metadata": {},
   "source": [
    "# Question 1 "
   ]
  },
  {
   "cell_type": "code",
   "execution_count": null,
   "id": "282de3a1-3080-4d54-8e70-4ae470caf3c5",
   "metadata": {},
   "outputs": [],
   "source": [
    "'''Using multiplication of string with integer and concatenation operator, print the \n",
    "string: 'PPPA+FA+FA+FA+F*A+F' '''"
   ]
  },
  {
   "cell_type": "code",
   "execution_count": 7,
   "id": "f7598d13-f0d8-419c-b8a0-90b600e12a05",
   "metadata": {},
   "outputs": [
    {
     "name": "stdout",
     "output_type": "stream",
     "text": [
      "PPPA+FA+FA+FA+F*A+F\n"
     ]
    }
   ],
   "source": [
    "a=\"P\"\n",
    "b=3*a\n",
    "c=\"A\"\n",
    "d=b+c\n",
    "e=\"F\"\n",
    "f=\"A\"\n",
    "g=e+f\n",
    "h=e+f\n",
    "i=e+f\n",
    "j=\"*\"\n",
    "k=e+j+f\n",
    "l=\"F\"\n",
    "print(d + \"+\" + g + \"+\" +  h + \"+\" + i + \"+\" + k + \"+\" + l)"
   ]
  },
  {
   "cell_type": "code",
   "execution_count": null,
   "id": "ab46f88f-4920-4d7c-917d-1b349ce67246",
   "metadata": {},
   "outputs": [],
   "source": []
  },
  {
   "cell_type": "markdown",
   "id": "5af4fcf8-bdc5-4469-8065-c1118810873a",
   "metadata": {},
   "source": [
    "# Question 2 "
   ]
  },
  {
   "cell_type": "code",
   "execution_count": null,
   "id": "2447dfda-0c06-424d-8ebc-d654be4708bc",
   "metadata": {},
   "outputs": [],
   "source": [
    "'''Take string input from user and then lower (small letter) the string and at last \n",
    "capitalize the first letter (replace function / capitalize function). After all, grab the last three \n",
    "characters. \n",
    "Remember you don’t know who many characters user can give input, so grab last three \n",
    "characters wisely '''"
   ]
  },
  {
   "cell_type": "code",
   "execution_count": 8,
   "id": "10a6d2c1-5a23-4884-ade7-511b7f56cc8f",
   "metadata": {},
   "outputs": [
    {
     "name": "stdin",
     "output_type": "stream",
     "text": [
      "Enter any word here Lucifer\n"
     ]
    },
    {
     "name": "stdout",
     "output_type": "stream",
     "text": [
      "lucifer\n",
      "Lucifer\n",
      "ife\n"
     ]
    }
   ],
   "source": [
    "x=input(\"Enter any word here\")\n",
    "print(x.lower())\n",
    "print(x.capitalize())\n",
    "print(x[-4:-1])"
   ]
  },
  {
   "cell_type": "markdown",
   "id": "2c00e6d4-59eb-4104-bb6a-1722a04be572",
   "metadata": {},
   "source": [
    "# question 3"
   ]
  },
  {
   "cell_type": "code",
   "execution_count": null,
   "id": "f2d95ce4-1cd3-4952-8ef0-ac820ac350b0",
   "metadata": {},
   "outputs": [],
   "source": [
    "#Explore how the reversing the string works with this [::-1]"
   ]
  },
  {
   "cell_type": "code",
   "execution_count": 23,
   "id": "303a75ca-95a7-456f-8e04-1816a1533031",
   "metadata": {},
   "outputs": [
    {
     "name": "stdout",
     "output_type": "stream",
     "text": [
      "drloW olleH\n"
     ]
    }
   ],
   "source": [
    "'''the value on the left side of : is the starting value from which the index will start and value after it is the index will end\n",
    "so, : at the start means index start from 1st letter and -1 means it will end at -1 index which is last\n",
    "For example:'''\n",
    "r= \"Hello Wolrd\"[::-1]\n",
    "print(r)"
   ]
  },
  {
   "cell_type": "code",
   "execution_count": null,
   "id": "17f7c26e-ed96-4744-8973-5415ebac033e",
   "metadata": {},
   "outputs": [],
   "source": []
  }
 ],
 "metadata": {
  "kernelspec": {
   "display_name": "Python 3 (ipykernel)",
   "language": "python",
   "name": "python3"
  },
  "language_info": {
   "codemirror_mode": {
    "name": "ipython",
    "version": 3
   },
   "file_extension": ".py",
   "mimetype": "text/x-python",
   "name": "python",
   "nbconvert_exporter": "python",
   "pygments_lexer": "ipython3",
   "version": "3.11.7"
  }
 },
 "nbformat": 4,
 "nbformat_minor": 5
}
